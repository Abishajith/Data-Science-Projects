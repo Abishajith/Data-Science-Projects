{
 "cells": [
  {
   "cell_type": "code",
   "execution_count": null,
   "id": "6eb3f7c7",
   "metadata": {},
   "outputs": [],
   "source": [
    "import pandas as pd"
   ]
  },
  {
   "cell_type": "code",
   "execution_count": null,
   "id": "e219bb39",
   "metadata": {},
   "outputs": [],
   "source": [
    "from sensor.utils.main_utils import read_yaml_file"
   ]
  },
  {
   "cell_type": "code",
   "execution_count": null,
   "id": "0642f447",
   "metadata": {},
   "outputs": [],
   "source": [
    "file_path= "
   ]
  },
  {
   "cell_type": "code",
   "execution_count": null,
   "id": "3520ce38",
   "metadata": {},
   "outputs": [],
   "source": [
    "schema_config= read_yaml_file (file_path =file_path)"
   ]
  },
  {
   "cell_type": "code",
   "execution_count": null,
   "id": "908a9b60",
   "metadata": {},
   "outputs": [],
   "source": [
    "len(schema_config['columns'])==len(df.columns)    ##check the data frame col and actual file col"
   ]
  },
  {
   "cell_type": "code",
   "execution_count": null,
   "id": "c86ec2c0",
   "metadata": {},
   "outputs": [
    {
     "ename": "",
     "evalue": "",
     "output_type": "error",
     "traceback": [
      "\u001b[1;31mRunning cells with 'venv (Python 3.8.0)' requires the ipykernel package.\n",
      "\u001b[1;31mInstall 'ipykernel' into the Python environment. \n",
      "\u001b[1;31mCommand: 'conda install -p c:\\Users\\ABI\\PycharmProjects\\GAC\\venv ipykernel --update-deps --force-reinstall'"
     ]
    }
   ],
   "source": [
    "from scipy.stats import ks_2samp"
   ]
  },
  {
   "cell_type": "markdown",
   "id": "74e7a04b",
   "metadata": {},
   "source": [
    "import numpy as np\n",
    "d1=np.arrange(10)\n",
    "d2=np.arrange(10)\n",
    "d1\n",
    "d2\n"
   ]
  },
  {
   "cell_type": "code",
   "execution_count": null,
   "id": "ade004a0",
   "metadata": {},
   "outputs": [],
   "source": [
    "test =ks_2samp(d1,d2)"
   ]
  },
  {
   "cell_type": "code",
   "execution_count": null,
   "id": "001c8bd0",
   "metadata": {},
   "outputs": [],
   "source": [
    "round(test,p.values)"
   ]
  },
  {
   "cell_type": "code",
   "execution_count": null,
   "id": "68ba29d2",
   "metadata": {},
   "outputs": [],
   "source": [
    "training_file_path=\"C:\\Users\\ABI\\PycharmProjects\\GAC\\artifact\\04_08_2025_09_27_29\\data_ingestion\\ingested\\train.csv\""
   ]
  },
  {
   "cell_type": "code",
   "execution_count": null,
   "id": "25025648",
   "metadata": {},
   "outputs": [],
   "source": [
    "test_file_path= \"C:\\Users\\ABI\\PycharmProjects\\GAC\\artifact\\04_08_2025_09_27_29\\data_ingestion\\ingested\\test.csv\""
   ]
  },
  {
   "cell_type": "code",
   "execution_count": null,
   "id": "b202c7a3",
   "metadata": {},
   "outputs": [],
   "source": [
    "train_df=pd.read_csv(training_file_path)\n",
    "test_df=pd.read_csv(test_file_path)"
   ]
  },
  {
   "cell_type": "code",
   "execution_count": null,
   "id": "231ee24d",
   "metadata": {},
   "outputs": [],
   "source": [
    "train_df.columns\n",
    "test_df.columns"
   ]
  },
  {
   "cell_type": "code",
   "execution_count": null,
   "id": "69f97c63",
   "metadata": {},
   "outputs": [],
   "source": [
    "d1=train_df['aa_000']   ##chechkany one column\n",
    "d2=test_df['aa_000']\n",
    "ks_2samp(d1,d2)"
   ]
  },
  {
   "cell_type": "code",
   "execution_count": null,
   "id": "5cf39b5c",
   "metadata": {},
   "outputs": [],
   "source": [
    "report={}\n",
    "def get_drift_report(base_df, current_df, threshold=0.5):\n",
    "for column in train_df.columns:\n",
    "    d1=train_df[column]   \n",
    "    d2=test_df[column]\n",
    "    is_same_dist=ks_2samp(d1,d2)\n",
    "    if threshold<=is_same_dist.pvalue:"
   ]
  }
 ],
 "metadata": {
  "kernelspec": {
   "display_name": "Python 3",
   "language": "python",
   "name": "python3"
  },
  "language_info": {
   "name": "python",
   "version": "3.8.0"
  }
 },
 "nbformat": 4,
 "nbformat_minor": 5
}
